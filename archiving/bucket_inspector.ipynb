{
 "cells": [
  {
   "cell_type": "code",
   "execution_count": null,
   "metadata": {},
   "outputs": [],
   "source": [
    "from os import scandir, makedirs\n",
    "from os.path import join\n",
    "\n",
    "from posixpath import basename\n",
    "from collections import Counter\n",
    "\n",
    "import svg\n",
    "import numpy as np\n",
    "import pandas as pd\n",
    "\n",
    "from google.cloud.storage import Client"
   ]
  },
  {
   "cell_type": "markdown",
   "metadata": {},
   "source": [
    "# defs"
   ]
  },
  {
   "cell_type": "code",
   "execution_count": 18,
   "metadata": {},
   "outputs": [],
   "source": [
    "def skim(d):\n",
    "  data = {'?': 0}\n",
    "  subd = []\n",
    "  with scandir(d) as sdir:\n",
    "    for n in sdir:\n",
    "      try:\n",
    "        if n.is_symlink():\n",
    "          data[n.name] = 'link'\n",
    "        elif n.is_file():\n",
    "          data[n.name] = n.stat().st_size\n",
    "          data['?'] += data[n.name]\n",
    "        elif n.is_dir():\n",
    "          subd.append((n.name, n.path))\n",
    "      except PermissionError:\n",
    "        data[n.name] = 'Restricted'\n",
    "\n",
    "  for n, p in subd:\n",
    "    try:\n",
    "      data[n] = skim(p)\n",
    "      data['?'] += data[n]['?']\n",
    "    except PermissionError:\n",
    "      data[n] = 'Restricted Dir'\n",
    "  return data\n",
    "  \n",
    "def bucket_skim(bucket):\n",
    "  data = []\n",
    "  tree = {'?': 0}\n",
    "  for b in bucket.list_blobs():\n",
    "    n = basename(b.name)\n",
    "    data.append((b.name, n, b.size))\n",
    "\n",
    "    tree['?'] += b.size\n",
    "    c = tree\n",
    "    for p in b.name.split('/')[:-1]:\n",
    "      p += '/'\n",
    "      if p not in c:\n",
    "        c[p] = {}\n",
    "      c = c[p]\n",
    "      if '?' not in c:\n",
    "        c['?'] = 0\n",
    "      c['?'] += b.size\n",
    "    c[n] = b.size\n",
    "\n",
    "  cols = ['name', 'basename', 'size']\n",
    "  df = pd.DataFrame(dict(zip(cols, zip(*data))))\n",
    "  df.set_index('name', inplace=True)\n",
    "  return df, tree\n",
    "\n",
    "prefs = ['', 'k', 'M', 'G', 'T']\n",
    "def hsize(bytes):\n",
    "  if bytes == 0: return '0 b'\n",
    "  M = int(np.log2(bytes))//10\n",
    "  V = bytes/(2**(M*10))\n",
    "  return f'{V:.1f} {prefs[M]}b'\n"
   ]
  },
  {
   "cell_type": "code",
   "execution_count": 3,
   "metadata": {},
   "outputs": [],
   "source": [
    "def bow_d(cx, cy, rO, rI, a0, a1):\n",
    "  a0 %= 360\n",
    "  a1 %= 360\n",
    "  A = np.deg2rad([a0%360, a1%360])\n",
    "  V = np.transpose([np.cos(A), np.sin(A)])\n",
    "  C = np.array([cx, cy])\n",
    "  EO = rO * V + C\n",
    "  EI = rI * V + C\n",
    "\n",
    "  larger = (a1 - a0)%360 > 180\n",
    "  return [\n",
    "    svg.MoveTo(*EO[0]),\n",
    "    svg.Arc(rO, rO, 0, larger, True, *EO[1]),\n",
    "    svg.LineTo(*EI[1]),\n",
    "    svg.Arc(rI, rI, 0, larger, False, *EI[0]),\n",
    "    svg.ClosePath()\n",
    "  ]\n",
    "\n",
    "def arc_d(cx, cy, r, a0, a1):\n",
    "  a0 %= 360\n",
    "  a1 %= 360\n",
    "  A = np.deg2rad([a0%360, a1%360])\n",
    "  V = np.transpose([np.cos(A), np.sin(A)])\n",
    "  C = np.array([cx, cy])\n",
    "  EO = r * V + C\n",
    "\n",
    "  larger = (a1 - a0)%360 > 180\n",
    "  return [\n",
    "    svg.MoveTo(*EO[0]),\n",
    "    svg.Arc(r, r, 0, larger, True, *EO[1])\n",
    "  ]\n",
    "\n",
    "def qbow(r, w, a0, a1):\n",
    "  return bow_d(0, 0, r-w/2, r+w/2, a0, a1)\n",
    "\n",
    "def qarc(r, a0, a1):\n",
    "  return arc_d(0,0,r,a0,a1)\n"
   ]
  },
  {
   "cell_type": "code",
   "execution_count": 4,
   "metadata": {},
   "outputs": [],
   "source": [
    "def bargram(tree, level=1, z=0, pre=''):\n",
    "  p = 0\n",
    "  bars = []\n",
    "  fs = []\n",
    "\n",
    "  if level == 1: bars.append((0, 0, pre, 0, tree['?']))\n",
    "  for n, v in tree.items():\n",
    "    if n == '?': continue\n",
    "    if isinstance(v, dict):\n",
    "      if v['?'] == 0: continue\n",
    "      bars.append((level, 0, join(pre, n), p + z, v['?']))\n",
    "      bars += bargram(v, level+1, p + z, join(pre, n))\n",
    "      p += v['?']\n",
    "    elif isinstance(v, int):\n",
    "      fs.append((n, v))\n",
    "\n",
    "  for n, v in fs:\n",
    "    if v == 0: continue\n",
    "    bars.append((level, 1, join(pre, n), p + z, v))\n",
    "    p += v\n",
    "  \n",
    "  return bars"
   ]
  },
  {
   "cell_type": "code",
   "execution_count": 5,
   "metadata": {},
   "outputs": [],
   "source": [
    "colors = [['#59158D', '#AD65E5', '#360958'],\n",
    "          ['#D39613', '#FFCF66', '#845B04'],\n",
    "          ['#3C1B91', '#8D6BE6', '#220C5A'],\n",
    "          ['#D35D13', '#FFA166', '#843504']]\n",
    "\n",
    "def make_bows(bardata, T=360):\n",
    "  elements = []\n",
    "  c = Counter()\n",
    "  for l, t, n, i0, i1 in bardata:\n",
    "    if l == 0 or i1/T*360 < 2/l: continue\n",
    "    elements.append(\n",
    "      svg.Path(\n",
    "        d=qbow(l*10, 6, i0/T*360, (i0+i1)/T*360),\n",
    "        fill=colors[l%4][t],\n",
    "        stroke=colors[l%4][2], stroke_width=0.4,\n",
    "        elements=[svg.Title(text=f'{n} : {hsize(i1)}')]\n",
    "      )\n",
    "    )\n",
    "    c[l] += 1\n",
    "  return elements, max(c.keys())"
   ]
  },
  {
   "cell_type": "code",
   "execution_count": 19,
   "metadata": {},
   "outputs": [],
   "source": [
    "def inspect_bucket(bucket_name, overname=None):\n",
    "  client = Client()\n",
    "  bucket = client.bucket(bucket_name)\n",
    "\n",
    "  fname = overname if overname else bucket_name\n",
    "\n",
    "  if not bucket.exists():\n",
    "    print(f'{bucket_name} not accessible. Check the name or the account credentials.')\n",
    "  \n",
    "  file_df, size_data = bucket_skim(bucket)\n",
    "  print(f'Total Bucket Size: {hsize(size_data[\"?\"])}')\n",
    "  bardata = bargram(size_data)\n",
    "  arcs, levels = make_bows(bardata, T=bardata[0][-1])\n",
    "  ext = (levels+1)*10\n",
    "  canvas = svg.SVG(\n",
    "    viewBox=svg.ViewBoxSpec(-ext, -ext, ext*2, ext*2),\n",
    "    width=1000, height=1000,\n",
    "    elements=arcs\n",
    "  )\n",
    "  \n",
    "  print(f'Saving graphic to inspection/{fname}/file_chart.svg')\n",
    "  makedirs(f'inspection/{fname}', exist_ok=True)\n",
    "  with open(f'inspection/{fname}/file_chart.svg', 'w') as out:\n",
    "    print(canvas, file=out)\n",
    "\n",
    "  print(f'Saving file table to inspection/{fname}/file_table.tsv')\n",
    "  file_df.to_csv(f'inspection/{fname}/file_table.tsv', sep='\\t')\n",
    "\n",
    "  bn_stats = file_df.groupby('basename')['size'].agg(('count', 'sum'))\n",
    "  bn_stats['size'] = bn_stats['sum'].apply(hsize)\n",
    "  bn_stats.sort_values('sum', ascending=False)\n",
    "  print(f'Saving basename table to inspection/{fname}/base_table.tsv')\n",
    "  bn_stats.to_csv(f'inspection/{fname}/base_table.tsv', sep='\\t')\n"
   ]
  },
  {
   "cell_type": "markdown",
   "metadata": {},
   "source": [
    "# exec"
   ]
  },
  {
   "cell_type": "code",
   "execution_count": 23,
   "metadata": {},
   "outputs": [],
   "source": [
    "df = pd.read_csv('Aldubayan Google Project Summary - Terra Info.csv')"
   ]
  },
  {
   "cell_type": "code",
   "execution_count": 1,
   "metadata": {},
   "outputs": [],
   "source": [
    "analyze = \"\"\"An_Angiosarcoma_RNA_for_DR copy\n",
    "QATR-1KG-Reference-Panel\n",
    "MID-Ciliopathies-Exome\n",
    "QATR-WES\n",
    "arab_breast_cancer\n",
    "arab_breast_cancer_study_wes\n",
    "KAnderson_Multi-Ancestry-PRS_WES_1KG\n",
    "KAnderson_PC_Germline_Analysis_WES\n",
    "KAnderson_PCGermline_CohortScale_Dev\n",
    "KAnderson_PCGermline_SampleScale_Dev\n",
    "KAnderson_Qatari_WGS_Ref_Curation\"\"\".split('\\n')"
   ]
  },
  {
   "cell_type": "code",
   "execution_count": 34,
   "metadata": {},
   "outputs": [
    {
     "name": "stdout",
     "output_type": "stream",
     "text": [
      "Total Bucket Size: 3.5 Tb\n",
      "Saving graphic to inspection/An_Angiosarcoma_RNA_for_DR copy/file_chart.svg\n",
      "Saving file table to inspection/An_Angiosarcoma_RNA_for_DR copy/file_table.tsv\n",
      "Saving basename table to inspection/An_Angiosarcoma_RNA_for_DR copy/base_table.tsv\n",
      "----------------\n",
      "Total Bucket Size: 2.2 Tb\n",
      "Saving graphic to inspection/KAnderson_Multi-Ancestry-PRS_WES_1KG/file_chart.svg\n",
      "Saving file table to inspection/KAnderson_Multi-Ancestry-PRS_WES_1KG/file_table.tsv\n",
      "Saving basename table to inspection/KAnderson_Multi-Ancestry-PRS_WES_1KG/base_table.tsv\n",
      "----------------\n",
      "Total Bucket Size: 2.3 Tb\n",
      "Saving graphic to inspection/KAnderson_PC_Germline_Analysis_WES/file_chart.svg\n",
      "Saving file table to inspection/KAnderson_PC_Germline_Analysis_WES/file_table.tsv\n",
      "Saving basename table to inspection/KAnderson_PC_Germline_Analysis_WES/base_table.tsv\n",
      "----------------\n",
      "Total Bucket Size: 2.3 Tb\n",
      "Saving graphic to inspection/KAnderson_PCGermline_CohortScale_Dev/file_chart.svg\n",
      "Saving file table to inspection/KAnderson_PCGermline_CohortScale_Dev/file_table.tsv\n",
      "Saving basename table to inspection/KAnderson_PCGermline_CohortScale_Dev/base_table.tsv\n",
      "----------------\n",
      "Total Bucket Size: 502.0 Gb\n",
      "Saving graphic to inspection/KAnderson_PCGermline_SampleScale_Dev/file_chart.svg\n",
      "Saving file table to inspection/KAnderson_PCGermline_SampleScale_Dev/file_table.tsv\n",
      "Saving basename table to inspection/KAnderson_PCGermline_SampleScale_Dev/base_table.tsv\n",
      "----------------\n",
      "Total Bucket Size: 1.6 Tb\n",
      "Saving graphic to inspection/KAnderson_Qatari_WGS_Ref_Curation/file_chart.svg\n",
      "Saving file table to inspection/KAnderson_Qatari_WGS_Ref_Curation/file_table.tsv\n",
      "Saving basename table to inspection/KAnderson_Qatari_WGS_Ref_Curation/base_table.tsv\n",
      "----------------\n",
      "Total Bucket Size: 3.6 Tb\n",
      "Saving graphic to inspection/MID-Ciliopathies-Exome/file_chart.svg\n",
      "Saving file table to inspection/MID-Ciliopathies-Exome/file_table.tsv\n",
      "Saving basename table to inspection/MID-Ciliopathies-Exome/base_table.tsv\n",
      "----------------\n",
      "Total Bucket Size: 402.0 Gb\n",
      "Saving graphic to inspection/arab_breast_cancer/file_chart.svg\n",
      "Saving file table to inspection/arab_breast_cancer/file_table.tsv\n",
      "Saving basename table to inspection/arab_breast_cancer/base_table.tsv\n",
      "----------------\n",
      "Total Bucket Size: 306.7 Gb\n",
      "Saving graphic to inspection/arab_breast_cancer_study_wes/file_chart.svg\n",
      "Saving file table to inspection/arab_breast_cancer_study_wes/file_table.tsv\n",
      "Saving basename table to inspection/arab_breast_cancer_study_wes/base_table.tsv\n",
      "----------------\n",
      "Total Bucket Size: 2.4 Tb\n",
      "Saving graphic to inspection/QATR-1KG-Reference-Panel/file_chart.svg\n",
      "Saving file table to inspection/QATR-1KG-Reference-Panel/file_table.tsv\n",
      "Saving basename table to inspection/QATR-1KG-Reference-Panel/base_table.tsv\n",
      "----------------\n",
      "Total Bucket Size: 9.0 Tb\n",
      "Saving graphic to inspection/QATR-WES/file_chart.svg\n",
      "Saving file table to inspection/QATR-WES/file_table.tsv\n",
      "Saving basename table to inspection/QATR-WES/base_table.tsv\n",
      "----------------\n"
     ]
    }
   ],
   "source": [
    "selection = df[df.Name.isin(analyze)][['Name', 'Bucket']]\n",
    "\n",
    "for i, (n, b) in selection.iterrows():\n",
    "  inspect_bucket(b, n)\n",
    "  print('----------------')"
   ]
  },
  {
   "cell_type": "markdown",
   "metadata": {},
   "source": [
    "# Blob Migration Errors"
   ]
  },
  {
   "cell_type": "code",
   "execution_count": 15,
   "metadata": {},
   "outputs": [],
   "source": [
    "import archive_blobs as ak\n",
    "from os.path import join\n",
    "from os import makedirs\n",
    "from json import load"
   ]
  },
  {
   "cell_type": "code",
   "execution_count": 16,
   "metadata": {},
   "outputs": [],
   "source": [
    "wsn = \"arab_breast_cancer_study_wes\"\n",
    "akn = \"aldubayan-lab-terra-archives\""
   ]
  },
  {
   "cell_type": "code",
   "execution_count": 23,
   "metadata": {},
   "outputs": [],
   "source": [
    "try:\n",
    "  wsdata = ak.fc_workspaces.loc[wsn]\n",
    "except KeyError as e:\n",
    "  print(f\"Workspace {wsn} not found!\")\n",
    "  raise KeyError(f\"Workspace {wsn} not found!\") from e\n",
    "\n",
    "where = join(\"migration\", wsn)\n",
    "makedirs(where, exist_ok=True)\n",
    "\n",
    "migrator = ak.BucketMigrator(wsdata.bucketName, akn, wsn)"
   ]
  },
  {
   "cell_type": "code",
   "execution_count": 18,
   "metadata": {},
   "outputs": [],
   "source": [
    "with open(join(where,'misc_migration_problems.json')) as inp:\n",
    "  problems0 = load(inp)"
   ]
  },
  {
   "cell_type": "code",
   "execution_count": 19,
   "metadata": {},
   "outputs": [
    {
     "data": {
      "text/plain": [
       "{'E': [['17a25dce-08c9-42e9-8672-bee21c004153/depthOfCoverageTest/20836bb3-7694-4c96-b0fe-7d643f8a7806/call-readcounts/pipelines-logs/action/12/stderr',\n",
       "   'gs://aldubayan-lab-terra-archives/arab_breast_cancer_study_wes/misc_files/17a25dce-08c9-42e9-8672-bee21c004153/depthOfCoverageTest/20836bb3-7694-4c96-b0fe-7d643f8a7806/call-readcounts/pipelines-logs/action/12/stderr'],\n",
       "  ['669cc49c-a6a5-41c2-8165-d6647ea98ffe/Stargazer/d450bc32-6535-4dfc-a5fc-a4afdca05c31/call-StargazerVCFRun/pipelines-logs/action/14/stderr',\n",
       "   'gs://aldubayan-lab-terra-archives/arab_breast_cancer_study_wes/misc_files/669cc49c-a6a5-41c2-8165-d6647ea98ffe/Stargazer/d450bc32-6535-4dfc-a5fc-a4afdca05c31/call-StargazerVCFRun/pipelines-logs/action/14/stderr'],\n",
       "  ['c6372728-e17c-4a0b-b7d2-e9e45fc76a44/CNVGermlineCohortWorkflow/b1a3ccb1-1487-4a0e-8cf3-22a2544e62ff/call-CollectCounts/shard-137/pipelines-logs/action/6/stderr',\n",
       "   'gs://aldubayan-lab-terra-archives/arab_breast_cancer_study_wes/misc_files/c6372728-e17c-4a0b-b7d2-e9e45fc76a44/CNVGermlineCohortWorkflow/b1a3ccb1-1487-4a0e-8cf3-22a2544e62ff/call-CollectCounts/shard-137/pipelines-logs/action/6/stderr'],\n",
       "  ['c6372728-e17c-4a0b-b7d2-e9e45fc76a44/CNVGermlineCohortWorkflow/b1a3ccb1-1487-4a0e-8cf3-22a2544e62ff/call-CollectCounts/shard-159/pipelines-logs/action/2/stdout',\n",
       "   'gs://aldubayan-lab-terra-archives/arab_breast_cancer_study_wes/misc_files/c6372728-e17c-4a0b-b7d2-e9e45fc76a44/CNVGermlineCohortWorkflow/b1a3ccb1-1487-4a0e-8cf3-22a2544e62ff/call-CollectCounts/shard-159/pipelines-logs/action/2/stdout'],\n",
       "  ['c6372728-e17c-4a0b-b7d2-e9e45fc76a44/CNVGermlineCohortWorkflow/b1a3ccb1-1487-4a0e-8cf3-22a2544e62ff/call-PostprocessGermlineCNVCalls/shard-143/pipelines-logs/action/15/stdout',\n",
       "   'gs://aldubayan-lab-terra-archives/arab_breast_cancer_study_wes/misc_files/c6372728-e17c-4a0b-b7d2-e9e45fc76a44/CNVGermlineCohortWorkflow/b1a3ccb1-1487-4a0e-8cf3-22a2544e62ff/call-PostprocessGermlineCNVCalls/shard-143/pipelines-logs/action/15/stdout'],\n",
       "  ['d5d7adee-348a-4641-8ae2-04eaaf8305cb/CNVGermlineCohortWorkflow/578b5d62-ddc6-46ae-91e4-1a9bae69ef98/call-CollectSampleQualityMetrics/shard-12/stderr',\n",
       "   'gs://aldubayan-lab-terra-archives/arab_breast_cancer_study_wes/misc_files/d5d7adee-348a-4641-8ae2-04eaaf8305cb/CNVGermlineCohortWorkflow/578b5d62-ddc6-46ae-91e4-1a9bae69ef98/call-CollectSampleQualityMetrics/shard-12/stderr'],\n",
       "  ['d5d7adee-348a-4641-8ae2-04eaaf8305cb/CNVGermlineCohortWorkflow/578b5d62-ddc6-46ae-91e4-1a9bae69ef98/call-PostprocessGermlineCNVCalls/shard-89/gcs_delocalization.sh',\n",
       "   'gs://aldubayan-lab-terra-archives/arab_breast_cancer_study_wes/misc_files/d5d7adee-348a-4641-8ae2-04eaaf8305cb/CNVGermlineCohortWorkflow/578b5d62-ddc6-46ae-91e4-1a9bae69ef98/call-PostprocessGermlineCNVCalls/shard-89/gcs_delocalization.sh'],\n",
       "  ['submissions/2d8e2f27-8d07-48d4-a147-9bb1a41b7ff5/t1k/c73486fd-2e44-4a2b-9e28-69c1a5ce0100/call-t1k_genotyping/pipelines-logs/action/13/stderr',\n",
       "   'gs://aldubayan-lab-terra-archives/arab_breast_cancer_study_wes/misc_files/submissions/2d8e2f27-8d07-48d4-a147-9bb1a41b7ff5/t1k/c73486fd-2e44-4a2b-9e28-69c1a5ce0100/call-t1k_genotyping/pipelines-logs/action/13/stderr'],\n",
       "  ['submissions/4bae4147-d7b4-4615-b2eb-b23c8ce1cee2/t1k/18945e7c-5f8a-445f-8256-0045e4969c36/call-SamToFastq/pipelines-logs/action/13/stdout',\n",
       "   'gs://aldubayan-lab-terra-archives/arab_breast_cancer_study_wes/misc_files/submissions/4bae4147-d7b4-4615-b2eb-b23c8ce1cee2/t1k/18945e7c-5f8a-445f-8256-0045e4969c36/call-SamToFastq/pipelines-logs/action/13/stdout'],\n",
       "  ['submissions/4bae4147-d7b4-4615-b2eb-b23c8ce1cee2/t1k/eb88ca1a-c550-4bc6-9499-078e874c27cb/call-t1k_genotyping/rc',\n",
       "   'gs://aldubayan-lab-terra-archives/arab_breast_cancer_study_wes/misc_files/submissions/4bae4147-d7b4-4615-b2eb-b23c8ce1cee2/t1k/eb88ca1a-c550-4bc6-9499-078e874c27cb/call-t1k_genotyping/rc'],\n",
       "  ['submissions/7409c6a6-11e6-4e4b-840b-b007cf970e69/t1k/adc70444-c011-472f-9239-ba948f30bc7d/call-SamToFastq/pipelines-logs/action/12/stderr',\n",
       "   'gs://aldubayan-lab-terra-archives/arab_breast_cancer_study_wes/misc_files/submissions/7409c6a6-11e6-4e4b-840b-b007cf970e69/t1k/adc70444-c011-472f-9239-ba948f30bc7d/call-SamToFastq/pipelines-logs/action/12/stderr'],\n",
       "  ['submissions/f5fcb629-f17f-4588-b203-d385927d33c7/Optitype/dee59c8a-fd1f-4fd1-bb69-8cdf21a29296/call-HlaFastq/gcs_localization.sh',\n",
       "   'gs://aldubayan-lab-terra-archives/arab_breast_cancer_study_wes/misc_files/submissions/f5fcb629-f17f-4588-b203-d385927d33c7/Optitype/dee59c8a-fd1f-4fd1-bb69-8cdf21a29296/call-HlaFastq/gcs_localization.sh']]}"
      ]
     },
     "execution_count": 19,
     "metadata": {},
     "output_type": "execute_result"
    }
   ],
   "source": [
    "problems0"
   ]
  },
  {
   "cell_type": "code",
   "execution_count": 20,
   "metadata": {},
   "outputs": [],
   "source": [
    "error_file_map = dict(problems0['E'])\n",
    "migrator.file_map = error_file_map"
   ]
  },
  {
   "cell_type": "code",
   "execution_count": 21,
   "metadata": {},
   "outputs": [
    {
     "name": "stdout",
     "output_type": "stream",
     "text": [
      "Migrating 12 files:12(C) = 12(D) + 0(M) + 0(E)     "
     ]
    }
   ],
   "source": [
    "counts, problems = migrator.migrate_files()"
   ]
  },
  {
   "cell_type": "code",
   "execution_count": null,
   "metadata": {},
   "outputs": [
    {
     "name": "stdout",
     "output_type": "stream",
     "text": [
      "Deleting 605015 files:549078(C) = 549066(D) + 12(E)"
     ]
    }
   ],
   "source": [
    "migrator.cleanup_old()"
   ]
  },
  {
   "cell_type": "code",
   "execution_count": 9,
   "metadata": {},
   "outputs": [],
   "source": [
    "migrator.file_map = problems['E']"
   ]
  }
 ],
 "metadata": {
  "kernelspec": {
   "display_name": "work3.11",
   "language": "python",
   "name": "python3"
  },
  "language_info": {
   "codemirror_mode": {
    "name": "ipython",
    "version": 3
   },
   "file_extension": ".py",
   "mimetype": "text/x-python",
   "name": "python",
   "nbconvert_exporter": "python",
   "pygments_lexer": "ipython3",
   "version": "3.11.11"
  }
 },
 "nbformat": 4,
 "nbformat_minor": 2
}
